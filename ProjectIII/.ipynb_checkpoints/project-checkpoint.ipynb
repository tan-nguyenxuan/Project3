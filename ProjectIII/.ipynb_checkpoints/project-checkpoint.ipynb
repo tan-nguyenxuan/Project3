{
 "cells": [
  {
   "cell_type": "markdown",
   "id": "c3fec281",
   "metadata": {},
   "source": [
    "<h1><center>Project 3</center></h1>\n",
    "<h2><center>Đề tài: </center></h2>"
   ]
  },
  {
   "cell_type": "markdown",
   "id": "b7a7be46",
   "metadata": {},
   "source": [
    "### Import thư viện"
   ]
  },
  {
   "cell_type": "code",
   "execution_count": null,
   "id": "b0d39817",
   "metadata": {},
   "outputs": [],
   "source": [
    "import pickle\n",
    "from sklearn.feature_extraction.text import TfidfVectorizer, CountVectorizer\n",
    "from sklearn.decomposition import TruncatedSVD\n",
    "from sklearn import naive_bayes\n",
    "from sklearn.model_selection import train_test_split, StratifiedShuffleSplit, learning_curve\n",
    "from sklearn.metrics import accuracy_score\n",
    "from sklearn import preprocessing\n",
    "from sklearn import metrics"
   ]
  }
 ],
 "metadata": {
  "kernelspec": {
   "display_name": "Python 3 (ipykernel)",
   "language": "python",
   "name": "python3"
  },
  "language_info": {
   "codemirror_mode": {
    "name": "ipython",
    "version": 3
   },
   "file_extension": ".py",
   "mimetype": "text/x-python",
   "name": "python",
   "nbconvert_exporter": "python",
   "pygments_lexer": "ipython3",
   "version": "3.10.10"
  },
  "vscode": {
   "interpreter": {
    "hash": "2303197c988d14cbb49c3c95507b7d390793dfd0b27629dacf0709a27cbe1f92"
   }
  }
 },
 "nbformat": 4,
 "nbformat_minor": 5
}
